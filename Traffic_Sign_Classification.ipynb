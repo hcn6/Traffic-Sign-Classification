{
  "nbformat": 4,
  "nbformat_minor": 0,
  "metadata": {
    "colab": {
      "name": "Traffic_Sign_Classification.ipynb",
      "provenance": [],
      "machine_shape": "hm"
    },
    "kernelspec": {
      "name": "python3",
      "display_name": "Python 3"
    },
    "accelerator": "GPU"
  },
  "cells": [
    {
      "cell_type": "code",
      "metadata": {
        "id": "t1k14p4fdwjb"
      },
      "source": [
        "import pickle\n",
        "from tensorflow.keras.preprocessing.image import ImageDataGenerator\n",
        "from tensorflow.keras.optimizers import Adam\n",
        "from tensorflow.keras.utils import to_categorical\n",
        "from sklearn.metrics import classification_report\n",
        "from skimage import transform\n",
        "from skimage import exposure\n",
        "from skimage import io\n",
        "import matplotlib.pyplot as plt\n",
        "import numpy as np\n",
        "import pandas as pd\n",
        "import argparse\n",
        "import random\n",
        "import os\n",
        "import zipfile\n",
        "import json\n",
        "from PIL import ImageFont, ImageDraw, Image\n",
        "from sklearn.model_selection import train_test_split"
      ],
      "execution_count": 6,
      "outputs": []
    },
    {
      "cell_type": "code",
      "metadata": {
        "id": "AGe9S1tc_jpX"
      },
      "source": [
        "with zipfile.ZipFile('/content/drive/My Drive/za_traffic_2020.zip', 'r') as zip_ref:\n",
        "    zip_ref.extractall('zalo_ai')"
      ],
      "execution_count": null,
      "outputs": []
    },
    {
      "cell_type": "code",
      "metadata": {
        "id": "tZ4L7DCUew2U"
      },
      "source": [
        "f = open('/content/zalo_ai/za_traffic_2020/traffic_train/train_traffic_sign_dataset.json')\n",
        "json_file = json.load(f)"
      ],
      "execution_count": null,
      "outputs": []
    },
    {
      "cell_type": "code",
      "metadata": {
        "id": "CYRpbQGz32Vw"
      },
      "source": [
        "annotation = []\n",
        "for i in json_file['annotations']:\n",
        "  annotation.append(('/content/zalo_ai/za_traffic_2020/traffic_train/images/' + str(i['image_id']) + '.png', i['bbox'], i['category_id']))\n",
        "with open('/content/drive/My Drive/zalo_traffic_annotation.p', 'wb') as f:\n",
        "  pickle.dump(annotation, f)"
      ],
      "execution_count": null,
      "outputs": []
    },
    {
      "cell_type": "code",
      "metadata": {
        "id": "LqrU_DyU6CDX",
        "outputId": "fc9b53a1-f0c6-4bcb-c46e-81faafe60f65",
        "colab": {
          "base_uri": "https://localhost:8080/"
        }
      },
      "source": [
        "with open('/content/drive/My Drive/zalo_traffic_annotation.p', 'rb') as f:\n",
        "  annotation = pickle.load(f)\n",
        "annotation[0]"
      ],
      "execution_count": 7,
      "outputs": [
        {
          "output_type": "execute_result",
          "data": {
            "text/plain": [
              "('/content/zalo_ai/za_traffic_2020/traffic_train/images/3.png',\n",
              " [880, 333, 19, 18],\n",
              " 2)"
            ]
          },
          "metadata": {
            "tags": []
          },
          "execution_count": 7
        }
      ]
    },
    {
      "cell_type": "code",
      "metadata": {
        "id": "T9_NE8lBTQtF"
      },
      "source": [
        "os.mkdir(\"/content/drive/My Drive/zalo_ai\")"
      ],
      "execution_count": null,
      "outputs": []
    },
    {
      "cell_type": "code",
      "metadata": {
        "id": "pIZZynOXX7x0"
      },
      "source": [
        "for i in json_file['categories']:\n",
        "  os.mkdir('/content/drive/My Drive/zalo_ai/' + str(i['id']))"
      ],
      "execution_count": null,
      "outputs": []
    },
    {
      "cell_type": "code",
      "metadata": {
        "id": "CGkEg5nSYSGD"
      },
      "source": [
        "counter = {1:0, 2:0, 3:0, 4:0, 5:0, 6:0, 7:0}\n",
        "for count, i in enumerate(json_file['annotations'], 0):\n",
        "  pic =  str(i['image_id']) + '.png'\n",
        "  image = Image.open(\"/content/zalo_ai/za_traffic_2020/traffic_train/images/\" + pic)\n",
        "  pixels = np.asarray(image)\n",
        "  x1, y1, width, height = i['bbox']\n",
        "  x1, y1 = abs(x1), abs(y1)\n",
        "  x2, y2 = x1 + width, y1 + height\n",
        "  face = pixels[y1:y2, x1:x2]\n",
        "  image = Image.fromarray(face)\n",
        "  image = image.resize((32,32))\n",
        "  image_name = str(counter[i['category_id']]) + '.png'\n",
        "  image.save(\"/content/drive/My Drive/zalo_ai/\" + str(i['category_id']) + '/' + image_name)\n",
        "  counter[(i['category_id'])] = counter[(i['category_id'])] + 1\n",
        "  if(count % 100 == 0):\n",
        "    print(\"Done\" + str(count))"
      ],
      "execution_count": null,
      "outputs": []
    },
    {
      "cell_type": "code",
      "metadata": {
        "id": "KodnPuN_WUty"
      },
      "source": [
        "def load_split():\n",
        "    # initialize the list of data and labels\n",
        "    data = []\n",
        "    labels = []\n",
        "    count = 0\n",
        "    for category in os.listdir(\"/content/drive/My Drive/zalo_ai/\"):\n",
        "      for img in os.listdir(\"/content/drive/My Drive/zalo_ai/\" + category):\n",
        "          img = Image.open(\"/content/drive/My Drive/zalo_ai/\" + category + '/' + img)\n",
        "          img = np.asarray(img)\n",
        "          image = exposure.equalize_adapthist(img, clip_limit=0.1)\n",
        "          data.append(image)\n",
        "          labels.append(int(category))\n",
        "          count = count + 1\n",
        "          if count % 100 == 0:\n",
        "            print(count)\n",
        "    data = np.array(data)\n",
        "    labels = np.array(labels)\n",
        "    # return a tuple of the data and labels\n",
        "    return (data, labels)"
      ],
      "execution_count": null,
      "outputs": []
    },
    {
      "cell_type": "code",
      "metadata": {
        "id": "wwGrvP8RX-m0"
      },
      "source": [
        "#Load X and Y\n",
        "(X, Y) = load_split()"
      ],
      "execution_count": null,
      "outputs": []
    },
    {
      "cell_type": "code",
      "metadata": {
        "id": "uJJWEO4gwl78"
      },
      "source": [
        "#Dump X and Y to disk\n",
        "with open('/content/drive/My Drive/X_set.p', 'wb') as f:\n",
        "  pickle.dump(X, f)\n",
        "with open('/content/drive/My Drive/Y_set.p', 'wb') as f:\n",
        "  pickle.dump(Y, f)"
      ],
      "execution_count": null,
      "outputs": []
    },
    {
      "cell_type": "code",
      "metadata": {
        "id": "VPq8wGdhRd32"
      },
      "source": [
        "#Load X and Y from disk\n",
        "with open('/content/drive/My Drive/X_set.p', 'rb') as f:\n",
        "  X = pickle.load(f)\n",
        "with open('/content/drive/My Drive/Y_set.p', 'rb') as f:\n",
        "  Y = pickle.load(f)"
      ],
      "execution_count": 31,
      "outputs": []
    },
    {
      "cell_type": "code",
      "metadata": {
        "id": "8AKQ6Hjirq61",
        "outputId": "b2a6a310-8227-4181-cfe2-93eae1556a9f",
        "colab": {
          "base_uri": "https://localhost:8080/"
        }
      },
      "source": [
        "to_categorical([1,2,3,4,5,6,7])"
      ],
      "execution_count": 30,
      "outputs": [
        {
          "output_type": "execute_result",
          "data": {
            "text/plain": [
              "array([[0., 1., 0., 0., 0., 0., 0., 0.],\n",
              "       [0., 0., 1., 0., 0., 0., 0., 0.],\n",
              "       [0., 0., 0., 1., 0., 0., 0., 0.],\n",
              "       [0., 0., 0., 0., 1., 0., 0., 0.],\n",
              "       [0., 0., 0., 0., 0., 1., 0., 0.],\n",
              "       [0., 0., 0., 0., 0., 0., 1., 0.],\n",
              "       [0., 0., 0., 0., 0., 0., 0., 1.]], dtype=float32)"
            ]
          },
          "metadata": {
            "tags": []
          },
          "execution_count": 30
        }
      ]
    },
    {
      "cell_type": "code",
      "metadata": {
        "id": "dLJthUw6hkWJ"
      },
      "source": [
        "\n",
        "for i in range(0, len(Y)):\n",
        "  Y[i] = Y[i] - 1"
      ],
      "execution_count": 9,
      "outputs": []
    },
    {
      "cell_type": "code",
      "metadata": {
        "id": "ZUmqH9L4lDI1"
      },
      "source": [
        "numLabels = len(np.unique(Y))\n",
        "Y = to_categorical(Y, numLabels + 1)\n",
        "X = X.astype(\"float32\") / 255.0"
      ],
      "execution_count": 33,
      "outputs": []
    },
    {
      "cell_type": "code",
      "metadata": {
        "id": "lEM-RGcFAfTz"
      },
      "source": [
        "trainX, testX, trainY, testY = train_test_split(X, Y, test_size=0.33)"
      ],
      "execution_count": 34,
      "outputs": []
    },
    {
      "cell_type": "code",
      "metadata": {
        "id": "WvCuUhP-Z2f3",
        "outputId": "140f9771-5bb8-4e53-ecd7-5d732835bfa4",
        "colab": {
          "base_uri": "https://localhost:8080/"
        }
      },
      "source": [
        "# trainX = trainX.astype(\"float32\") / 255.0\n",
        "# testX = testX.astype(\"float32\") / 255.0\n",
        "# # one-hot encode the training and testing labels\n",
        "# trainY = to_categorical(trainY, numLabels)\n",
        "# testY = to_categorical(testY, numLabels)\n",
        "# account for skew in the labeled data\n",
        "classTotals = trainY.sum(axis=0)\n",
        "classWeight = classTotals.max() / classTotals\n",
        "weight = dict(zip(set(np.argmax(Y, axis=1)), classWeight))"
      ],
      "execution_count": 35,
      "outputs": [
        {
          "output_type": "stream",
          "text": [
            "/usr/local/lib/python3.6/dist-packages/ipykernel_launcher.py:8: RuntimeWarning: divide by zero encountered in true_divide\n",
            "  \n"
          ],
          "name": "stderr"
        }
      ]
    },
    {
      "cell_type": "code",
      "metadata": {
        "id": "gB_cDTTssH7u",
        "outputId": "d69cdb73-e0df-4b57-c6c0-cf444e1e644e",
        "colab": {
          "base_uri": "https://localhost:8080/"
        }
      },
      "source": [
        "weight"
      ],
      "execution_count": 36,
      "outputs": [
        {
          "output_type": "execute_result",
          "data": {
            "text/plain": [
              "{1: inf,\n",
              " 2: 2.1340313,\n",
              " 3: 1.3901774,\n",
              " 4: 5.2390747,\n",
              " 5: 3.1499226,\n",
              " 6: 1.6969192,\n",
              " 7: 1.0}"
            ]
          },
          "metadata": {
            "tags": []
          },
          "execution_count": 36
        }
      ]
    },
    {
      "cell_type": "code",
      "metadata": {
        "id": "PyS5hqTWADND"
      },
      "source": [
        "from tensorflow.keras.models import Sequential\n",
        "from tensorflow.keras.layers import BatchNormalization\n",
        "from tensorflow.keras.layers import Conv2D\n",
        "from tensorflow.keras.layers import MaxPooling2D\n",
        "from tensorflow.keras.layers import Activation\n",
        "from tensorflow.keras.layers import Flatten\n",
        "from tensorflow.keras.layers import Dropout\n",
        "from tensorflow.keras.layers import Dense\n",
        "def build(width, height, depth, classes):\n",
        "  # initialize the model along with the input shape to be\n",
        "  # \"channels last\" and the channels dimension itself\n",
        "  model = Sequential()\n",
        "  inputShape = (height, width, depth)\n",
        "  chanDim = -1\n",
        "  # CONV => RELU => BN => POOL\n",
        "  model.add(Conv2D(8, (5, 5), padding=\"same\",\n",
        "    input_shape=inputShape))\n",
        "  model.add(Activation(\"relu\"))\n",
        "  model.add(BatchNormalization(axis=chanDim))\n",
        "  model.add(MaxPooling2D(pool_size=(2, 2)))\n",
        "  # first set of (CONV => RELU => CONV => RELU) * 2 => POOL\n",
        "  model.add(Conv2D(16, (3, 3), padding=\"same\"))\n",
        "  model.add(Activation(\"relu\"))\n",
        "  model.add(BatchNormalization(axis=chanDim))\n",
        "  model.add(Conv2D(16, (3, 3), padding=\"same\"))\n",
        "  model.add(Activation(\"relu\"))\n",
        "  model.add(BatchNormalization(axis=chanDim))\n",
        "  model.add(MaxPooling2D(pool_size=(2, 2)))\n",
        "  # second set of (CONV => RELU => CONV => RELU) * 2 => POOL\n",
        "  model.add(Conv2D(32, (3, 3), padding=\"same\"))\n",
        "  model.add(Activation(\"relu\"))\n",
        "  model.add(BatchNormalization(axis=chanDim))\n",
        "  model.add(Conv2D(32, (3, 3), padding=\"same\"))\n",
        "  model.add(Activation(\"relu\"))\n",
        "  model.add(BatchNormalization(axis=chanDim))\n",
        "  model.add(MaxPooling2D(pool_size=(2, 2)))\n",
        "  # first set of FC => RELU layers\n",
        "  model.add(Flatten())\n",
        "  model.add(Dense(128))\n",
        "  model.add(Activation(\"relu\"))\n",
        "  model.add(BatchNormalization())\n",
        "  model.add(Dropout(0.5))\n",
        "  # second set of FC => RELU layers\n",
        "  model.add(Flatten())\n",
        "  model.add(Dense(128))\n",
        "  model.add(Activation(\"relu\"))\n",
        "  model.add(BatchNormalization())\n",
        "  model.add(Dropout(0.5))\n",
        "  # softmax classifier\n",
        "  model.add(Dense(classes))\n",
        "  model.add(Activation(\"softmax\"))\n",
        "  return model"
      ],
      "execution_count": 16,
      "outputs": []
    },
    {
      "cell_type": "code",
      "metadata": {
        "id": "-bVbjCO1c28B"
      },
      "source": [
        "NUM_EPOCHS = 200\n",
        "INIT_LR = 1e-3\n",
        "BS = 64"
      ],
      "execution_count": 17,
      "outputs": []
    },
    {
      "cell_type": "code",
      "metadata": {
        "id": "R4FZ2hgMcKt-",
        "outputId": "a6021a5b-7dff-4728-cb16-e7b0f98868e2",
        "colab": {
          "base_uri": "https://localhost:8080/"
        }
      },
      "source": [
        "from keras.callbacks import EarlyStopping\n",
        "aug = ImageDataGenerator(\n",
        "\trotation_range=10,\n",
        "\tzoom_range=0.15,\n",
        "\twidth_shift_range=0.1,\n",
        "\theight_shift_range=0.1,\n",
        "\tshear_range=0.15,\n",
        "\thorizontal_flip=False,\n",
        "\tvertical_flip=False,\n",
        "\tfill_mode=\"nearest\")\n",
        "# initialize the optimizer and compile the model\n",
        "print(\"[INFO] compiling model...\")\n",
        "opt = Adam(lr=INIT_LR, decay=INIT_LR / (NUM_EPOCHS * 0.5))\n",
        "model = build(width=32, height=32, depth=3,\n",
        "\tclasses=7)\n",
        "model.compile(loss=\"categorical_crossentropy\", optimizer=opt,\n",
        "\tmetrics=[\"accuracy\"])\n",
        "earlyStopping = EarlyStopping(monitor='val_accuracy', patience=50, verbose=0, mode='max')\n",
        "mcp_save = keras.callbacks.ModelCheckpoint('.mdl_wts.hdf5', save_best_only=True, monitor='val_accuracy', mode='max')\n",
        "# train the network\n",
        "print(\"[INFO] training network...\")\n",
        "H = model.fit(\n",
        "\taug.flow(trainX, trainY, batch_size=BS),\n",
        "  validation_data=(testX, testY),\n",
        "\tsteps_per_epoch=trainX.shape[0] // BS,\n",
        "\tepochs=NUM_EPOCHS,\n",
        "\tclass_weight=weight,\n",
        "\tcallbacks=[earlyStopping, mcp_save]\n",
        "  )"
      ],
      "execution_count": 18,
      "outputs": [
        {
          "output_type": "stream",
          "text": [
            "[INFO] compiling model...\n",
            "[INFO] training network...\n",
            "Epoch 1/200\n",
            "115/115 [==============================] - 5s 47ms/step - loss: 2.5306 - accuracy: 0.5853 - val_loss: 2.7548 - val_accuracy: 0.1267\n",
            "Epoch 2/200\n",
            "115/115 [==============================] - 5s 43ms/step - loss: 1.3489 - accuracy: 0.7740 - val_loss: 4.1233 - val_accuracy: 0.1267\n",
            "Epoch 3/200\n",
            "115/115 [==============================] - 5s 43ms/step - loss: 1.0983 - accuracy: 0.8286 - val_loss: 3.6274 - val_accuracy: 0.1267\n",
            "Epoch 4/200\n",
            "115/115 [==============================] - 5s 44ms/step - loss: 0.9506 - accuracy: 0.8466 - val_loss: 3.1905 - val_accuracy: 0.2366\n",
            "Epoch 5/200\n",
            "115/115 [==============================] - 5s 44ms/step - loss: 0.8466 - accuracy: 0.8731 - val_loss: 1.2526 - val_accuracy: 0.5612\n",
            "Epoch 6/200\n",
            "115/115 [==============================] - 5s 43ms/step - loss: 0.7573 - accuracy: 0.8863 - val_loss: 0.4067 - val_accuracy: 0.8540\n",
            "Epoch 7/200\n",
            "115/115 [==============================] - 5s 44ms/step - loss: 0.6926 - accuracy: 0.8995 - val_loss: 0.3069 - val_accuracy: 0.8975\n",
            "Epoch 8/200\n",
            "115/115 [==============================] - 5s 44ms/step - loss: 0.6237 - accuracy: 0.9098 - val_loss: 0.2854 - val_accuracy: 0.9132\n",
            "Epoch 9/200\n",
            "115/115 [==============================] - 5s 44ms/step - loss: 0.6373 - accuracy: 0.9073 - val_loss: 0.2593 - val_accuracy: 0.9154\n",
            "Epoch 10/200\n",
            "115/115 [==============================] - 5s 44ms/step - loss: 0.5822 - accuracy: 0.9138 - val_loss: 0.2514 - val_accuracy: 0.9212\n",
            "Epoch 11/200\n",
            "115/115 [==============================] - 5s 44ms/step - loss: 0.5881 - accuracy: 0.9125 - val_loss: 0.2242 - val_accuracy: 0.9322\n",
            "Epoch 12/200\n",
            "115/115 [==============================] - 5s 43ms/step - loss: 0.5422 - accuracy: 0.9227 - val_loss: 0.2283 - val_accuracy: 0.9320\n",
            "Epoch 13/200\n",
            "115/115 [==============================] - 5s 44ms/step - loss: 0.5171 - accuracy: 0.9251 - val_loss: 0.2324 - val_accuracy: 0.9336\n",
            "Epoch 14/200\n",
            "115/115 [==============================] - 5s 44ms/step - loss: 0.5129 - accuracy: 0.9253 - val_loss: 0.2139 - val_accuracy: 0.9353\n",
            "Epoch 15/200\n",
            "115/115 [==============================] - 5s 44ms/step - loss: 0.4732 - accuracy: 0.9318 - val_loss: 0.2082 - val_accuracy: 0.9375\n",
            "Epoch 16/200\n",
            "115/115 [==============================] - 5s 44ms/step - loss: 0.4460 - accuracy: 0.9344 - val_loss: 0.1762 - val_accuracy: 0.9466\n",
            "Epoch 17/200\n",
            "115/115 [==============================] - 5s 43ms/step - loss: 0.4680 - accuracy: 0.9317 - val_loss: 0.2041 - val_accuracy: 0.9372\n",
            "Epoch 18/200\n",
            "115/115 [==============================] - 5s 43ms/step - loss: 0.4803 - accuracy: 0.9353 - val_loss: 0.1874 - val_accuracy: 0.9449\n",
            "Epoch 19/200\n",
            "115/115 [==============================] - 5s 43ms/step - loss: 0.4330 - accuracy: 0.9398 - val_loss: 0.1970 - val_accuracy: 0.9388\n",
            "Epoch 20/200\n",
            "115/115 [==============================] - 5s 43ms/step - loss: 0.4434 - accuracy: 0.9332 - val_loss: 0.1941 - val_accuracy: 0.9424\n",
            "Epoch 21/200\n",
            "115/115 [==============================] - 5s 43ms/step - loss: 0.4311 - accuracy: 0.9302 - val_loss: 0.1999 - val_accuracy: 0.9438\n",
            "Epoch 22/200\n",
            "115/115 [==============================] - 5s 43ms/step - loss: 0.4251 - accuracy: 0.9414 - val_loss: 0.1873 - val_accuracy: 0.9416\n",
            "Epoch 23/200\n",
            "115/115 [==============================] - 5s 43ms/step - loss: 0.3845 - accuracy: 0.9457 - val_loss: 0.2103 - val_accuracy: 0.9358\n",
            "Epoch 24/200\n",
            "115/115 [==============================] - 5s 43ms/step - loss: 0.3696 - accuracy: 0.9442 - val_loss: 0.2386 - val_accuracy: 0.9242\n",
            "Epoch 25/200\n",
            "115/115 [==============================] - 5s 43ms/step - loss: 0.3766 - accuracy: 0.9426 - val_loss: 0.1812 - val_accuracy: 0.9466\n",
            "Epoch 26/200\n",
            "115/115 [==============================] - 5s 43ms/step - loss: 0.3501 - accuracy: 0.9502 - val_loss: 0.1771 - val_accuracy: 0.9466\n",
            "Epoch 27/200\n",
            "115/115 [==============================] - 5s 43ms/step - loss: 0.3413 - accuracy: 0.9488 - val_loss: 0.3132 - val_accuracy: 0.9003\n",
            "Epoch 28/200\n",
            "115/115 [==============================] - 5s 42ms/step - loss: 0.3895 - accuracy: 0.9437 - val_loss: 0.2585 - val_accuracy: 0.9295\n",
            "Epoch 29/200\n",
            "115/115 [==============================] - 5s 43ms/step - loss: 0.3519 - accuracy: 0.9502 - val_loss: 0.2086 - val_accuracy: 0.9358\n",
            "Epoch 30/200\n",
            "115/115 [==============================] - 5s 44ms/step - loss: 0.3422 - accuracy: 0.9506 - val_loss: 0.1736 - val_accuracy: 0.9523\n",
            "Epoch 31/200\n",
            "115/115 [==============================] - 5s 43ms/step - loss: 0.3497 - accuracy: 0.9499 - val_loss: 0.2048 - val_accuracy: 0.9361\n",
            "Epoch 32/200\n",
            "115/115 [==============================] - 5s 43ms/step - loss: 0.3284 - accuracy: 0.9502 - val_loss: 0.1975 - val_accuracy: 0.9430\n",
            "Epoch 33/200\n",
            "115/115 [==============================] - 5s 43ms/step - loss: 0.3404 - accuracy: 0.9524 - val_loss: 0.1604 - val_accuracy: 0.9543\n",
            "Epoch 34/200\n",
            "115/115 [==============================] - 5s 43ms/step - loss: 0.3086 - accuracy: 0.9557 - val_loss: 0.1608 - val_accuracy: 0.9501\n",
            "Epoch 35/200\n",
            "115/115 [==============================] - 5s 43ms/step - loss: 0.3138 - accuracy: 0.9536 - val_loss: 0.1716 - val_accuracy: 0.9521\n",
            "Epoch 36/200\n",
            "115/115 [==============================] - 5s 43ms/step - loss: 0.3172 - accuracy: 0.9546 - val_loss: 0.1826 - val_accuracy: 0.9452\n",
            "Epoch 37/200\n",
            "115/115 [==============================] - 5s 43ms/step - loss: 0.3186 - accuracy: 0.9532 - val_loss: 0.1707 - val_accuracy: 0.9515\n",
            "Epoch 38/200\n",
            "115/115 [==============================] - 5s 43ms/step - loss: 0.2874 - accuracy: 0.9578 - val_loss: 0.1800 - val_accuracy: 0.9501\n",
            "Epoch 39/200\n",
            "115/115 [==============================] - 5s 43ms/step - loss: 0.2867 - accuracy: 0.9580 - val_loss: 0.1693 - val_accuracy: 0.9526\n",
            "Epoch 40/200\n",
            "115/115 [==============================] - 5s 43ms/step - loss: 0.2871 - accuracy: 0.9554 - val_loss: 0.2204 - val_accuracy: 0.9361\n",
            "Epoch 41/200\n",
            "115/115 [==============================] - 5s 43ms/step - loss: 0.3011 - accuracy: 0.9570 - val_loss: 0.1923 - val_accuracy: 0.9457\n",
            "Epoch 42/200\n",
            "115/115 [==============================] - 5s 43ms/step - loss: 0.2852 - accuracy: 0.9604 - val_loss: 0.1705 - val_accuracy: 0.9515\n",
            "Epoch 43/200\n",
            "115/115 [==============================] - 5s 43ms/step - loss: 0.2946 - accuracy: 0.9567 - val_loss: 0.2359 - val_accuracy: 0.9353\n",
            "Epoch 44/200\n",
            "115/115 [==============================] - 5s 43ms/step - loss: 0.2961 - accuracy: 0.9544 - val_loss: 0.2289 - val_accuracy: 0.9300\n",
            "Epoch 45/200\n",
            "115/115 [==============================] - 5s 43ms/step - loss: 0.2836 - accuracy: 0.9581 - val_loss: 0.2011 - val_accuracy: 0.9399\n",
            "Epoch 46/200\n",
            "115/115 [==============================] - 5s 44ms/step - loss: 0.2833 - accuracy: 0.9558 - val_loss: 0.1574 - val_accuracy: 0.9556\n",
            "Epoch 47/200\n",
            "115/115 [==============================] - 5s 45ms/step - loss: 0.2896 - accuracy: 0.9574 - val_loss: 0.2488 - val_accuracy: 0.9328\n",
            "Epoch 48/200\n",
            "115/115 [==============================] - 5s 45ms/step - loss: 0.2822 - accuracy: 0.9569 - val_loss: 0.1736 - val_accuracy: 0.9499\n",
            "Epoch 49/200\n",
            "115/115 [==============================] - 5s 44ms/step - loss: 0.2490 - accuracy: 0.9640 - val_loss: 0.1441 - val_accuracy: 0.9579\n",
            "Epoch 50/200\n",
            "115/115 [==============================] - 5s 43ms/step - loss: 0.2401 - accuracy: 0.9648 - val_loss: 0.1648 - val_accuracy: 0.9543\n",
            "Epoch 51/200\n",
            "115/115 [==============================] - 5s 43ms/step - loss: 0.2438 - accuracy: 0.9632 - val_loss: 0.1697 - val_accuracy: 0.9523\n"
          ],
          "name": "stdout"
        }
      ]
    },
    {
      "cell_type": "code",
      "metadata": {
        "id": "CqByIgwSzkLN",
        "outputId": "be9c1153-ca7d-4b11-c87a-5d07cb6994f3",
        "colab": {
          "base_uri": "https://localhost:8080/"
        }
      },
      "source": [
        "model.save('/content/drive/My Drive/traffic_sign_classified')"
      ],
      "execution_count": null,
      "outputs": [
        {
          "output_type": "stream",
          "text": [
            "WARNING:tensorflow:From /usr/local/lib/python3.6/dist-packages/tensorflow/python/training/tracking/tracking.py:111: Model.state_updates (from tensorflow.python.keras.engine.training) is deprecated and will be removed in a future version.\n",
            "Instructions for updating:\n",
            "This property should not be used in TensorFlow 2.0, as updates are applied automatically.\n",
            "WARNING:tensorflow:From /usr/local/lib/python3.6/dist-packages/tensorflow/python/training/tracking/tracking.py:111: Layer.updates (from tensorflow.python.keras.engine.base_layer) is deprecated and will be removed in a future version.\n",
            "Instructions for updating:\n",
            "This property should not be used in TensorFlow 2.0, as updates are applied automatically.\n",
            "INFO:tensorflow:Assets written to: /content/drive/My Drive/traffic_sign_classified/assets\n"
          ],
          "name": "stdout"
        }
      ]
    },
    {
      "cell_type": "code",
      "metadata": {
        "id": "mRSu2lb5n7lV",
        "outputId": "378ffd2d-0eca-4e9f-e77b-392dfa8ec829",
        "colab": {
          "base_uri": "https://localhost:8080/",
          "height": 282
        }
      },
      "source": [
        "plt.plot(H.history.get(\"loss\"))"
      ],
      "execution_count": 29,
      "outputs": [
        {
          "output_type": "execute_result",
          "data": {
            "text/plain": [
              "[<matplotlib.lines.Line2D at 0x7f2b78f2bef0>]"
            ]
          },
          "metadata": {
            "tags": []
          },
          "execution_count": 29
        },
        {
          "output_type": "display_data",
          "data": {
            "image/png": "[encoded data removed]",
            "text/plain": [
              "<Figure size 432x288 with 1 Axes>"
            ]
          },
          "metadata": {
            "tags": [],
            "needs_background": "light"
          }
        }
      ]
    },
    {
      "cell_type": "code",
      "metadata": {
        "id": "YlWGFEs10TfE"
      },
      "source": [
        "from tensorflow import keras\n",
        "model = keras.models.load_model('/content/drive/My Drive/traffic_sign_classified')"
      ],
      "execution_count": 1,
      "outputs": []
    },
    {
      "cell_type": "code",
      "metadata": {
        "id": "CpzPwBYlc748"
      },
      "source": [
        "category = [{'supercategory': 'Cấm ngược chiều', 'id': 1, 'name': 'Cam nguoc chieu'}, {'supercategory': 'Cam dung va do', 'id': 2, 'name': 'Cam dung va do'}, {'supercategory': 'Cấm rẽ', 'id': 3, 'name': 'Cam re'}, {'supercategory': 'Giới hạn tốc độ', 'id': 4, 'name': 'Gioi han toc do'}, {'supercategory': 'Cam con lai', 'id': 5, 'name': 'Cam con lai'}, {'supercategory': 'Nguy hiểm', 'id': 6, 'name': 'Nguy hiem'}, {'supercategory': 'Hiệu lệnh', 'id': 7, 'name': 'Hieu lenh'}]\n",
        "label = {}\n",
        "for i in category:\n",
        "  label[i['id'] - 1] = i['name']"
      ],
      "execution_count": null,
      "outputs": []
    },
    {
      "cell_type": "code",
      "metadata": {
        "id": "PdNnlJF5cnUc",
        "outputId": "50ce9a12-fa5a-463f-bff9-c996610f6168",
        "colab": {
          "base_uri": "https://localhost:8080/",
          "height": 539
        }
      },
      "source": [
        "import cv2\n",
        "from sklearn.metrics import classification_report, confusion_matrix\n",
        "import seaborn as sns\n",
        "import pandas as pd\n",
        "y_pred = model.predict(X, batch_size=64, verbose=1)\n",
        "y_pred_bool = np.argmax(y_pred, axis=1)\n",
        "\n",
        "print(classification_report(np.argmax(Y, axis=1), y_pred_bool))\n",
        "a = confusion_matrix(np.argmax(Y, axis=1), y_pred_bool)\n",
        "sns.heatmap(pd.DataFrame(a), annot=True, cmap=\"YlGnBu\" ,fmt='g')"
      ],
      "execution_count": null,
      "outputs": [
        {
          "output_type": "stream",
          "text": [
            "172/172 [==============================] - 0s 2ms/step\n",
            "              precision    recall  f1-score   support\n",
            "\n",
            "           0       0.99      0.99      0.99      1416\n",
            "           1       0.99      0.99      0.99      2221\n",
            "           2       0.91      0.96      0.94       556\n",
            "           3       0.88      0.98      0.93       949\n",
            "           4       0.97      0.90      0.93      1787\n",
            "           5       1.00      1.00      1.00      3049\n",
            "           6       0.99      0.99      0.99      1022\n",
            "\n",
            "    accuracy                           0.97     11000\n",
            "   macro avg       0.96      0.97      0.97     11000\n",
            "weighted avg       0.98      0.97      0.97     11000\n",
            "\n"
          ],
          "name": "stdout"
        },
        {
          "output_type": "execute_result",
          "data": {
            "text/plain": [
              "<matplotlib.axes._subplots.AxesSubplot at 0x7fb0fa844eb8>"
            ]
          },
          "metadata": {
            "tags": []
          },
          "execution_count": 350
        },
        {
          "output_type": "display_data",
          "data": {
            "image/png": "[encoded data removed]",
            "text/plain": [
              "<Figure size 432x288 with 2 Axes>"
            ]
          },
          "metadata": {
            "tags": [],
            "needs_background": "light"
          }
        }
      ]
    },
    {
      "cell_type": "code",
      "metadata": {
        "id": "Y1LYMyaVIKOI"
      },
      "source": [
        "from google.colab.patches import cv2_imshow\n",
        "def predict(path):\n",
        "  img1 = Image.open(path)\n",
        "  img1 = img1.resize((32,32))\n",
        "  img1 = np.asarray(img1)\n",
        "  if(len(img1.shape) < 3):\n",
        "    img1 = cv2.cvtColor(img1, cv2.COLOR_GRAY2RGB)\n",
        "  img1 = exposure.equalize_adapthist(img1, clip_limit=1)\n",
        "  img1 = img1 / 255.0\n",
        "  img1 = np.array([img1])\n",
        "  res = label[np.argmax(model.predict(img1))]\n",
        "  \n",
        "  img = cv2.imread(path)\n",
        "  img = cv2.resize(img, (256,256))\n",
        "  font = cv2.FONT_HERSHEY_SIMPLEX \n",
        "  # org \n",
        "  org = (20, 60) \n",
        "  # fontScale \n",
        "  fontScale = 0.6\n",
        "  # Blue color in BGR \n",
        "  color = (255, 0, 0) \n",
        "  # Line thickness of 2 px \n",
        "  thickness = 1\n",
        "  # Using cv2.putText() method \n",
        "  image = cv2.putText(img, res, org, font,  \n",
        "                    fontScale, color, thickness, cv2.LINE_AA) \n",
        "  #Display the image\n",
        "  cv2_imshow(img)                                           \n"
      ],
      "execution_count": null,
      "outputs": []
    },
    {
      "cell_type": "code",
      "metadata": {
        "id": "xH6KWm6jq8u3",
        "outputId": "65ce2f7a-10f0-4359-b06d-425ef2c56db3",
        "colab": {
          "base_uri": "https://localhost:8080/",
          "height": 273
        }
      },
      "source": [
        "predict('/content/traffic11.jpg')"
      ],
      "execution_count": null,
      "outputs": [
        {
          "output_type": "display_data",
          "data": {
            "image/png": "[encoded data removed]",
            "text/plain": [
              "<PIL.Image.Image image mode=RGB size=256x256 at 0x7FB0FC360A20>"
            ]
          },
          "metadata": {
            "tags": []
          }
        }
      ]
    }
  ]
}